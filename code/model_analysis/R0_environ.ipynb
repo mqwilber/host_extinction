{
 "cells": [
  {
   "cell_type": "markdown",
   "metadata": {},
   "source": [
    "## Calculating R0 for discrete-time SIS model with environmental reservoir\n"
   ]
  },
  {
   "cell_type": "markdown",
   "metadata": {},
   "source": [
    "Calculating $R_0$ for the following set of equations\n",
    "\n",
    "$$\\begin{align}\n",
    "S(t + 1) =& S(t)s_0 \\exp(\\beta_1 I(t) + \\beta_2 Z(t) + I(t) s_I l_I \\\\\n",
    "I(t + 1) =& I(t) s_I (1 - l_I) + S_I s_0 (1 - \\exp(\\beta_1 I(t) + \\beta_2 Z(t)) \\\\\n",
    "Z(t + 1) =& Z(t) \\nu + I(t)f\n",
    "\\end{align}$$"
   ]
  },
  {
   "cell_type": "code",
   "execution_count": null,
   "metadata": {
    "collapsed": true
   },
   "outputs": [],
   "source": [
    "from sympy import Symbol\n",
    "from sympy import Matrix\n",
    "from sympy import eye"
   ]
  },
  {
   "cell_type": "code",
   "execution_count": 11,
   "metadata": {
    "collapsed": true
   },
   "outputs": [],
   "source": [
    "# Variables in the SIS Z model\n",
    "b1 = Symbol('b1') # Transmission coefficient for host to host contact\n",
    "b2 = Symbol('b2') # Transmission coefficient for host to zoospore contact\n",
    "s0 = Symbol('s0') # Survival probability of uninfected\n",
    "sI = Symbol('sI') # Survival probability of infected\n",
    "sZ = Symbol('sZ') # Also nu above, survival probability of zoospores\n",
    "lI = Symbol('lI') # Probability of recovering from infection\n",
    "S = Symbol('S') # Initial number of susceptibles\n",
    "f = Symbol(\"f\") # Mean number of zoospores produced by infected individual"
   ]
  },
  {
   "cell_type": "code",
   "execution_count": 12,
   "metadata": {
    "collapsed": false
   },
   "outputs": [],
   "source": [
    "# See Appendix 2: Calculating the two differntiated matricies that make up J\n",
    "U = Matrix([[sI*(1 - lI), 0], [f, sZ]])\n",
    "M_star = Matrix([[s0*S*b1, s0*S*b2], [0,0]])"
   ]
  },
  {
   "cell_type": "code",
   "execution_count": 13,
   "metadata": {
    "collapsed": false
   },
   "outputs": [],
   "source": [
    "# Get the maximum eigenvalue\n",
    "D = M_star *((eye(2) - U).inv())\n",
    "eig = D.eigenvals()\n",
    "max_eig = list(eig)[1]"
   ]
  },
  {
   "cell_type": "code",
   "execution_count": 14,
   "metadata": {
    "collapsed": false
   },
   "outputs": [
    {
     "data": {
      "text/plain": [
       "S*s0*(b1*sZ - b1 - b2*f)/((sZ - 1)*(lI*sI - sI + 1))"
      ]
     },
     "execution_count": 14,
     "metadata": {},
     "output_type": "execute_result"
    }
   ],
   "source": [
    "# Resulting R0 \n",
    "max_eig"
   ]
  }
 ],
 "metadata": {
  "kernelspec": {
   "display_name": "Python 2",
   "language": "python",
   "name": "python2"
  },
  "language_info": {
   "codemirror_mode": {
    "name": "ipython",
    "version": 2
   },
   "file_extension": ".py",
   "mimetype": "text/x-python",
   "name": "python",
   "nbconvert_exporter": "python",
   "pygments_lexer": "ipython2",
   "version": "2.7.12"
  }
 },
 "nbformat": 4,
 "nbformat_minor": 0
}
